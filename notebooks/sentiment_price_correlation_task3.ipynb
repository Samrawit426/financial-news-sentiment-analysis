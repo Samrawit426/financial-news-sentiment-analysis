{
 "cells": [
  {
   "cell_type": "code",
   "execution_count": 3,
   "id": "5a87ef15",
   "metadata": {},
   "outputs": [
    {
     "name": "stdout",
     "output_type": "stream",
     "text": [
      "Index(['Unnamed: 0', 'headline', 'url', 'publisher', 'date', 'stock'], dtype='object')\n"
     ]
    }
   ],
   "source": [
    "import pandas as pd\n",
    "\n",
    "# Load your raw news data\n",
    "news_df = pd.read_csv('../data/raw/raw_analyst_ratings.csv')\n",
    "\n",
    "# Check column names\n",
    "print(news_df.columns)\n"
   ]
  },
  {
   "cell_type": "code",
   "execution_count": 7,
   "id": "4883aa07",
   "metadata": {},
   "outputs": [],
   "source": [
    "# Convert to datetime while allowing mixed formats\n",
    "news_df['date'] = pd.to_datetime(news_df['date'], format='mixed', errors='coerce')\n",
    "\n",
    "# Drop rows where conversion failed\n",
    "news_df.dropna(subset=['date'], inplace=True)\n",
    "\n"
   ]
  },
  {
   "cell_type": "code",
   "execution_count": 8,
   "id": "bbd8e8f8",
   "metadata": {},
   "outputs": [],
   "source": [
    "# Filter for Apple headlines (assuming stock ticker is 'AAPL' or similar)\n",
    "news_df = news_df[news_df['stock'] == 'A']  # Adjust if needed\n"
   ]
  },
  {
   "cell_type": "code",
   "execution_count": 9,
   "id": "2c0c5a19",
   "metadata": {},
   "outputs": [
    {
     "name": "stderr",
     "output_type": "stream",
     "text": [
      "[nltk_data] Downloading package vader_lexicon to\n",
      "[nltk_data]     C:\\Users\\hp\\AppData\\Roaming\\nltk_data...\n"
     ]
    }
   ],
   "source": [
    "from nltk.sentiment.vader import SentimentIntensityAnalyzer\n",
    "import nltk\n",
    "nltk.download('vader_lexicon')\n",
    "\n",
    "# Initialize VADER\n",
    "sia = SentimentIntensityAnalyzer()\n",
    "\n",
    "# Apply sentiment score to each headline\n",
    "news_df['sentiment'] = news_df['headline'].apply(lambda x: sia.polarity_scores(x)['compound'])\n"
   ]
  },
  {
   "cell_type": "code",
   "execution_count": 10,
   "id": "965709a2",
   "metadata": {},
   "outputs": [],
   "source": [
    "# Group by date and compute mean sentiment\n",
    "daily_sentiment = news_df.groupby('date')['sentiment'].mean().reset_index()\n"
   ]
  },
  {
   "cell_type": "code",
   "execution_count": 13,
   "id": "97323984",
   "metadata": {},
   "outputs": [],
   "source": [
    "stock_df = pd.read_csv('../data/yfinance_data/AAPL_historical_data.csv')  # Replace with actual filename if different\n",
    "\n"
   ]
  },
  {
   "cell_type": "code",
   "execution_count": 14,
   "id": "5d3fb24c",
   "metadata": {},
   "outputs": [],
   "source": [
    "stock_df['Date'] = pd.to_datetime(stock_df['Date'])\n",
    "stock_df['Date'] = stock_df['Date'].dt.date  # So it matches `news_df['date'].dt.date`\n"
   ]
  },
  {
   "cell_type": "code",
   "execution_count": 19,
   "id": "7f6f0553",
   "metadata": {},
   "outputs": [],
   "source": [
    "# Ensure both dates are timezone-naive and just the date part\n",
    "news_df['date'] = pd.to_datetime(news_df['date']).dt.tz_localize(None).dt.date\n",
    "stock_df['Date'] = pd.to_datetime(stock_df['Date']).dt.date\n"
   ]
  },
  {
   "cell_type": "code",
   "execution_count": 20,
   "id": "2d6e7e1e",
   "metadata": {},
   "outputs": [],
   "source": [
    "# Group by news date and calculate average sentiment\n",
    "daily_sentiment = news_df.groupby('date')['sentiment'].mean().reset_index()\n",
    "\n",
    "# Merge with stock data\n",
    "merged_df = pd.merge(stock_df, daily_sentiment,\n",
    "                     left_on='Date', right_on='date', how='left')\n"
   ]
  },
  {
   "cell_type": "code",
   "execution_count": 21,
   "id": "2c763b3e",
   "metadata": {},
   "outputs": [
    {
     "name": "stdout",
     "output_type": "stream",
     "text": [
      "         Date      Open      High       Low     Close  Adj Close     Volume  \\\n",
      "0  1980-12-12  0.128348  0.128906  0.128348  0.128348   0.098943  469033600   \n",
      "1  1980-12-15  0.122210  0.122210  0.121652  0.121652   0.093781  175884800   \n",
      "2  1980-12-16  0.113281  0.113281  0.112723  0.112723   0.086898  105728000   \n",
      "3  1980-12-17  0.115513  0.116071  0.115513  0.115513   0.089049   86441600   \n",
      "4  1980-12-18  0.118862  0.119420  0.118862  0.118862   0.091630   73449600   \n",
      "\n",
      "   Dividends  Stock Splits date  sentiment  \n",
      "0        0.0           0.0  NaN        NaN  \n",
      "1        0.0           0.0  NaN        NaN  \n",
      "2        0.0           0.0  NaN        NaN  \n",
      "3        0.0           0.0  NaN        NaN  \n",
      "4        0.0           0.0  NaN        NaN  \n",
      "Index(['Date', 'Open', 'High', 'Low', 'Close', 'Adj Close', 'Volume',\n",
      "       'Dividends', 'Stock Splits', 'date', 'sentiment'],\n",
      "      dtype='object')\n"
     ]
    }
   ],
   "source": [
    "print(merged_df.head())\n",
    "print(merged_df.columns)\n"
   ]
  },
  {
   "cell_type": "code",
   "execution_count": 22,
   "id": "a8a1094d",
   "metadata": {},
   "outputs": [
    {
     "name": "stdout",
     "output_type": "stream",
     "text": [
      "10994\n"
     ]
    }
   ],
   "source": [
    "print(merged_df['sentiment'].isna().sum())\n"
   ]
  },
  {
   "cell_type": "code",
   "execution_count": 23,
   "id": "a5105571",
   "metadata": {},
   "outputs": [
    {
     "name": "stderr",
     "output_type": "stream",
     "text": [
      "C:\\Users\\hp\\AppData\\Local\\Temp\\ipykernel_8796\\472787422.py:1: FutureWarning: Series.fillna with 'method' is deprecated and will raise in a future version. Use obj.ffill() or obj.bfill() instead.\n",
      "  merged_df['sentiment'] = merged_df['sentiment'].fillna(method='ffill')\n"
     ]
    }
   ],
   "source": [
    "merged_df['sentiment'] = merged_df['sentiment'].fillna(method='ffill')\n"
   ]
  },
  {
   "cell_type": "code",
   "execution_count": 24,
   "id": "4932eb7c",
   "metadata": {},
   "outputs": [],
   "source": [
    "merged_df['return'] = merged_df['Close'].pct_change()\n"
   ]
  },
  {
   "cell_type": "code",
   "execution_count": 25,
   "id": "4724deda",
   "metadata": {},
   "outputs": [
    {
     "name": "stdout",
     "output_type": "stream",
     "text": [
      "           sentiment    return\n",
      "sentiment   1.000000  0.008909\n",
      "return      0.008909  1.000000\n"
     ]
    }
   ],
   "source": [
    "correlation = merged_df[['sentiment', 'return']].corr()\n",
    "print(correlation)\n"
   ]
  },
  {
   "cell_type": "code",
   "execution_count": 26,
   "id": "0051121d",
   "metadata": {},
   "outputs": [
    {
     "data": {
      "image/png": "[encoded data removed]",
      "text/plain": [
       "<Figure size 640x480 with 1 Axes>"
      ]
     },
     "metadata": {},
     "output_type": "display_data"
    }
   ],
   "source": [
    "import matplotlib.pyplot as plt\n",
    "\n",
    "plt.scatter(merged_df['sentiment'], merged_df['return'], alpha=0.5)\n",
    "plt.xlabel('News Sentiment')\n",
    "plt.ylabel('Stock Return')\n",
    "plt.title('Sentiment vs. Stock Return')\n",
    "plt.grid(True)\n",
    "plt.show()\n"
   ]
  }
 ],
 "metadata": {
  "kernelspec": {
   "display_name": ".venv311",
   "language": "python",
   "name": "python3"
  },
  "language_info": {
   "codemirror_mode": {
    "name": "ipython",
    "version": 3
   },
   "file_extension": ".py",
   "mimetype": "text/x-python",
   "name": "python",
   "nbconvert_exporter": "python",
   "pygments_lexer": "ipython3",
   "version": "3.11.9"
  }
 },
 "nbformat": 4,
 "nbformat_minor": 5
}
